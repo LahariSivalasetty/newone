{
  "nbformat": 4,
  "nbformat_minor": 0,
  "metadata": {
    "colab": {
      "provenance": [],
      "authorship_tag": "ABX9TyPeZMS9piU7Sd0vENp/U/eQ",
      "include_colab_link": true
    },
    "kernelspec": {
      "name": "python3",
      "display_name": "Python 3"
    },
    "language_info": {
      "name": "python"
    }
  },
  "cells": [
    {
      "cell_type": "markdown",
      "metadata": {
        "id": "view-in-github",
        "colab_type": "text"
      },
      "source": [
        "<a href=\"https://colab.research.google.com/github/LahariSivalasetty/newone/blob/Student_admission/Student_Admission.ipynb\" target=\"_parent\"><img src=\"https://colab.research.google.com/assets/colab-badge.svg\" alt=\"Open In Colab\"/></a>"
      ]
    },
    {
      "cell_type": "code",
      "execution_count": 1,
      "metadata": {
        "colab": {
          "base_uri": "https://localhost:8080/"
        },
        "id": "JFKXBccoG87P",
        "outputId": "b05a605d-5003-48e4-961e-36ccdafd3ece"
      },
      "outputs": [
        {
          "output_type": "stream",
          "name": "stdout",
          "text": [
            "Requirement already satisfied: scikit-learn in /usr/local/lib/python3.11/dist-packages (1.6.1)\n",
            "Requirement already satisfied: pandas in /usr/local/lib/python3.11/dist-packages (2.2.2)\n",
            "Requirement already satisfied: numpy in /usr/local/lib/python3.11/dist-packages (2.0.2)\n",
            "Requirement already satisfied: scipy>=1.6.0 in /usr/local/lib/python3.11/dist-packages (from scikit-learn) (1.15.3)\n",
            "Requirement already satisfied: joblib>=1.2.0 in /usr/local/lib/python3.11/dist-packages (from scikit-learn) (1.5.1)\n",
            "Requirement already satisfied: threadpoolctl>=3.1.0 in /usr/local/lib/python3.11/dist-packages (from scikit-learn) (3.6.0)\n",
            "Requirement already satisfied: python-dateutil>=2.8.2 in /usr/local/lib/python3.11/dist-packages (from pandas) (2.9.0.post0)\n",
            "Requirement already satisfied: pytz>=2020.1 in /usr/local/lib/python3.11/dist-packages (from pandas) (2025.2)\n",
            "Requirement already satisfied: tzdata>=2022.7 in /usr/local/lib/python3.11/dist-packages (from pandas) (2025.2)\n",
            "Requirement already satisfied: six>=1.5 in /usr/local/lib/python3.11/dist-packages (from python-dateutil>=2.8.2->pandas) (1.17.0)\n",
            "Accuracy: 0.53\n",
            "\n",
            "Classification Report:\n",
            "              precision    recall  f1-score   support\n",
            "\n",
            "           0       0.59      0.76      0.67        25\n",
            "           1       0.25      0.13      0.17        15\n",
            "\n",
            "    accuracy                           0.53        40\n",
            "   macro avg       0.42      0.45      0.42        40\n",
            "weighted avg       0.46      0.53      0.48        40\n",
            "\n",
            "\n",
            "Based on the input, the model predicts the student will be admitted.\n"
          ]
        }
      ],
      "source": [
        "# prompt: generate code for Stident admission prediction using predictive analysis use data sets from libraries\n",
        "\n",
        "!pip install scikit-learn pandas numpy\n",
        "\n",
        "import pandas as pd\n",
        "import numpy as np\n",
        "from sklearn.model_selection import train_test_split\n",
        "from sklearn.ensemble import RandomForestClassifier\n",
        "from sklearn.metrics import accuracy_score, classification_report\n",
        "\n",
        "# Load a sample dataset (using a built-in scikit-learn dataset as an example)\n",
        "# In a real scenario, you would load your own student admission data.\n",
        "# For demonstration, let's use the Iris dataset (though it's not ideal for this problem,\n",
        "# it serves to show the structure). You would replace this with your actual data.\n",
        "# A better approach would be to load a dataset like 'admission_predict.csv'\n",
        "# if available through a library or if you have downloaded it.\n",
        "\n",
        "# Let's simulate a relevant dataset structure for student admissions\n",
        "data = {\n",
        "    'GRE_Score': np.random.randint(260, 340, size=200),\n",
        "    'TOEFL_Score': np.random.randint(92, 120, size=200),\n",
        "    'University_Rating': np.random.randint(1, 6, size=200),\n",
        "    'SOP': np.random.uniform(1.0, 5.0, size=200),\n",
        "    'LOR': np.random.uniform(1.0, 5.0, size=200),\n",
        "    'CGPA': np.random.uniform(6.8, 9.9, size=200),\n",
        "    'Research': np.random.randint(0, 2, size=200),\n",
        "    'Chance_of_Admit': np.random.uniform(0.3, 0.9, size=200)\n",
        "}\n",
        "df = pd.DataFrame(data)\n",
        "\n",
        "# For a binary classification problem (Admitted/Not Admitted),\n",
        "# we need to create a target variable.\n",
        "# Let's assume if Chance_of_Admit is >= 0.7, the student is admitted (1), otherwise not (0).\n",
        "df['Admitted'] = (df['Chance_of_Admit'] >= 0.7).astype(int)\n",
        "\n",
        "# Define features (X) and target (y)\n",
        "X = df[['GRE_Score', 'TOEFL_Score', 'University_Rating', 'SOP', 'LOR', 'CGPA', 'Research']]\n",
        "y = df['Admitted']\n",
        "\n",
        "# Split data into training and testing sets\n",
        "X_train, X_test, y_train, y_test = train_test_split(X, y, test_size=0.2, random_state=42)\n",
        "\n",
        "# Initialize and train a predictive model (Random Forest Classifier)\n",
        "model = RandomForestClassifier(n_estimators=100, random_state=42)\n",
        "model.fit(X_train, y_train)\n",
        "\n",
        "# Make predictions on the test set\n",
        "y_pred = model.predict(X_test)\n",
        "\n",
        "# Evaluate the model\n",
        "accuracy = accuracy_score(y_test, y_pred)\n",
        "print(f'Accuracy: {accuracy:.2f}')\n",
        "\n",
        "print('\\nClassification Report:')\n",
        "print(classification_report(y_test, y_pred))\n",
        "\n",
        "# Example of making a prediction for a new student\n",
        "new_student_data = {\n",
        "    'GRE_Score': [320],\n",
        "    'TOEFL_Score': [110],\n",
        "    'University_Rating': [4],\n",
        "    'SOP': [4.5],\n",
        "    'LOR': [4.0],\n",
        "    'CGPA': [8.8],\n",
        "    'Research': [1]\n",
        "}\n",
        "new_student_df = pd.DataFrame(new_student_data)\n",
        "\n",
        "prediction = model.predict(new_student_df)\n",
        "\n",
        "if prediction[0] == 1:\n",
        "  print('\\nBased on the input, the model predicts the student will be admitted.')\n",
        "else:\n",
        "  print('\\nBased on the input, the model predicts the student will not be admitted.')\n",
        "\n",
        "# Note: This code uses a simulated dataset for demonstration.\n",
        "# For real-world application, you would need a proper student admission dataset\n",
        "# and potentially more advanced techniques depending on the problem complexity."
      ]
    },
    {
      "cell_type": "code",
      "source": [
        "# prompt: student admission prediction using predictive analysisi by importing data sets using decision tree algorith\n",
        "\n",
        "from sklearn.tree import DecisionTreeClassifier\n",
        "\n",
        "# Initialize and train a Decision Tree Classifier\n",
        "dt_model = DecisionTreeClassifier(random_state=42)\n",
        "dt_model.fit(X_train, y_train)\n",
        "\n",
        "# Make predictions on the test set using the Decision Tree model\n",
        "y_pred_dt = dt_model.predict(X_test)\n",
        "\n",
        "# Evaluate the Decision Tree model\n",
        "accuracy_dt = accuracy_score(y_test, y_pred_dt)\n",
        "print(f'\\nDecision Tree Model Accuracy: {accuracy_dt:.2f}')\n",
        "\n",
        "print('\\nDecision Tree Classification Report:')\n",
        "print(classification_report(y_test, y_pred_dt))\n",
        "\n",
        "# Example of making a prediction for a new student using the Decision Tree model\n",
        "dt_prediction = dt_model.predict(new_student_df)\n",
        "\n",
        "if dt_prediction[0] == 1:\n",
        "  print('\\nBased on the input, the Decision Tree model predicts the student will be admitted.')\n",
        "else:\n",
        "  print('\\nBased on the input, the Decision Tree model predicts the student will not be admitted.')\n"
      ],
      "metadata": {
        "colab": {
          "base_uri": "https://localhost:8080/"
        },
        "id": "M-_Izb4WH5aW",
        "outputId": "8331136d-345a-401a-e790-73a237e51ed2"
      },
      "execution_count": 2,
      "outputs": [
        {
          "output_type": "stream",
          "name": "stdout",
          "text": [
            "\n",
            "Decision Tree Model Accuracy: 0.55\n",
            "\n",
            "Decision Tree Classification Report:\n",
            "              precision    recall  f1-score   support\n",
            "\n",
            "           0       0.63      0.68      0.65        25\n",
            "           1       0.38      0.33      0.36        15\n",
            "\n",
            "    accuracy                           0.55        40\n",
            "   macro avg       0.51      0.51      0.51        40\n",
            "weighted avg       0.54      0.55      0.54        40\n",
            "\n",
            "\n",
            "Based on the input, the Decision Tree model predicts the student will be admitted.\n"
          ]
        }
      ]
    }
  ]
}